{
 "cells": [
  {
   "cell_type": "code",
   "execution_count": 1,
   "id": "a3dcd4c3",
   "metadata": {},
   "outputs": [],
   "source": [
    "import rospy\n",
    "rospy.init_node(\"prueba_receptionist\")\n",
    "from receptionist_knowledge import *\n",
    "party = RECEPTIONIST()"
   ]
  },
  {
   "cell_type": "code",
   "execution_count": 4,
   "id": "a12e46d8",
   "metadata": {},
   "outputs": [],
   "source": [
    "#Llega nuevo invitado llamado Ruben que le gusta la coca-cola, \n",
    "#aleatoriamente se le asigna un asiento por confirmar\n",
    "party.clean_knowledge(host_name = \"charlie\", host_location = \"Place_2\")\n",
    "party.add_guest('Mitzi', 'Tea')\n"
   ]
  },
  {
   "cell_type": "code",
   "execution_count": 5,
   "id": "6df014ae",
   "metadata": {},
   "outputs": [
    {
     "name": "stdout",
     "output_type": "stream",
     "text": [
      "[9.35, -2.23, -3.1]\n"
     ]
    }
   ],
   "source": [
    "#El robot navega a la localizacion del asiento previamente asignado\n",
    "\n",
    "isLocation, location = party.get_active_seat_location()\n",
    "if isLocation:\n",
    "    #navigation.goto(location)\n",
    "    print(location)"
   ]
  },
  {
   "cell_type": "code",
   "execution_count": 5,
   "id": "38a94e12",
   "metadata": {},
   "outputs": [
    {
     "ename": "KeyError",
     "evalue": "'None'",
     "output_type": "error",
     "traceback": [
      "\u001b[0;31m---------------------------------------------------------------------------\u001b[0m",
      "\u001b[0;31mKeyError\u001b[0m                                  Traceback (most recent call last)",
      "Input \u001b[0;32mIn [5]\u001b[0m, in \u001b[0;36m<cell line: 2>\u001b[0;34m()\u001b[0m\n\u001b[1;32m      1\u001b[0m \u001b[38;5;66;03m#El robot revisa el asiento y observa una persona ahi, que previamente no estaba en la fiesta\u001b[39;00m\n\u001b[0;32m----> 2\u001b[0m \u001b[43mparty\u001b[49m\u001b[38;5;241;43m.\u001b[39;49m\u001b[43mseat_confirmation\u001b[49m\u001b[43m(\u001b[49m\u001b[38;5;124;43m\"\u001b[39;49m\u001b[38;5;124;43mOscar\u001b[39;49m\u001b[38;5;124;43m\"\u001b[39;49m\u001b[43m)\u001b[49m\n",
      "File \u001b[0;32m~/catkin_extras/src/utils/src/utils/receptionist_knowledge.py:178\u001b[0m, in \u001b[0;36mRECEPTIONIST.seat_confirmation\u001b[0;34m(self, guest_found)\u001b[0m\n\u001b[1;32m    176\u001b[0m \u001b[38;5;28;01melse\u001b[39;00m:\n\u001b[1;32m    177\u001b[0m     guest_num \u001b[38;5;241m=\u001b[39m \u001b[38;5;28mself\u001b[39m\u001b[38;5;241m.\u001b[39madd_new_person(guest_found, drink\u001b[38;5;241m=\u001b[39m\u001b[38;5;124m'\u001b[39m\u001b[38;5;124mNone\u001b[39m\u001b[38;5;124m'\u001b[39m)\n\u001b[0;32m--> 178\u001b[0m     \u001b[38;5;28;43mself\u001b[39;49m\u001b[38;5;241;43m.\u001b[39;49m\u001b[43massign_seat_to_guest\u001b[49m\u001b[43m(\u001b[49m\u001b[43mguest_num\u001b[49m\u001b[43m,\u001b[49m\u001b[43m \u001b[49m\u001b[38;5;28;43mself\u001b[39;49m\u001b[38;5;241;43m.\u001b[39;49m\u001b[43mactive_seat\u001b[49m\u001b[43m)\u001b[49m\n\u001b[1;32m    179\u001b[0m     \u001b[38;5;28mself\u001b[39m\u001b[38;5;241m.\u001b[39mactive_seat \u001b[38;5;241m=\u001b[39m \u001b[38;5;28mself\u001b[39m\u001b[38;5;241m.\u001b[39mget_any_available_seat()\n",
      "File \u001b[0;32m~/catkin_extras/src/utils/src/utils/receptionist_knowledge.py:184\u001b[0m, in \u001b[0;36mRECEPTIONIST.assign_seat_to_guest\u001b[0;34m(self, guest, seat)\u001b[0m\n\u001b[1;32m    182\u001b[0m \u001b[38;5;28;01mdef\u001b[39;00m \u001b[38;5;21massign_seat_to_guest\u001b[39m(\u001b[38;5;28mself\u001b[39m, guest, seat):\n\u001b[1;32m    183\u001b[0m     \u001b[38;5;66;03m#Update data\u001b[39;00m\n\u001b[0;32m--> 184\u001b[0m     \u001b[38;5;28;43mself\u001b[39;49m\u001b[38;5;241;43m.\u001b[39;49m\u001b[43minformacion_fiesta\u001b[49m\u001b[43m[\u001b[49m\u001b[38;5;124;43m'\u001b[39;49m\u001b[38;5;124;43mPlaces\u001b[39;49m\u001b[38;5;124;43m'\u001b[39;49m\u001b[43m]\u001b[49m\u001b[43m[\u001b[49m\u001b[43mseat\u001b[49m\u001b[43m]\u001b[49m[\u001b[38;5;124m'\u001b[39m\u001b[38;5;124moccupied\u001b[39m\u001b[38;5;124m'\u001b[39m] \u001b[38;5;241m=\u001b[39m guest\n\u001b[1;32m    185\u001b[0m     \u001b[38;5;28mself\u001b[39m\u001b[38;5;241m.\u001b[39minformacion_fiesta[\u001b[38;5;124m'\u001b[39m\u001b[38;5;124mPeople\u001b[39m\u001b[38;5;124m'\u001b[39m][guest][\u001b[38;5;124m'\u001b[39m\u001b[38;5;124mlocation\u001b[39m\u001b[38;5;124m'\u001b[39m] \u001b[38;5;241m=\u001b[39m seat\n\u001b[1;32m    186\u001b[0m     \u001b[38;5;28mself\u001b[39m\u001b[38;5;241m.\u001b[39msave_data_to_yaml(\u001b[38;5;28mself\u001b[39m\u001b[38;5;241m.\u001b[39minformacion_fiesta)\n",
      "\u001b[0;31mKeyError\u001b[0m: 'None'"
     ]
    }
   ],
   "source": [
    "#El robot revisa el asiento y observa una persona ahi, que previamente no estaba en la fiesta\n",
    "party.seat_confirmation(\"Oscar\")"
   ]
  },
  {
   "cell_type": "code",
   "execution_count": 6,
   "id": "30529d2b",
   "metadata": {},
   "outputs": [],
   "source": [
    "#El robot vuelve a navegar a otro asiento\n",
    "\n",
    "isLocation, location = party.get_active_seat_location()\n",
    "if isLocation:\n",
    "    #navigation.goto(location)\n",
    "    print(location)"
   ]
  },
  {
   "cell_type": "code",
   "execution_count": 7,
   "id": "c11bdcb9",
   "metadata": {},
   "outputs": [
    {
     "ename": "KeyError",
     "evalue": "'None'",
     "output_type": "error",
     "traceback": [
      "\u001b[0;31m---------------------------------------------------------------------------\u001b[0m",
      "\u001b[0;31mKeyError\u001b[0m                                  Traceback (most recent call last)",
      "Input \u001b[0;32mIn [7]\u001b[0m, in \u001b[0;36m<cell line: 2>\u001b[0;34m()\u001b[0m\n\u001b[1;32m      1\u001b[0m \u001b[38;5;66;03m#El robot revisa el asiento y observa que no hay nadie en este lugar y lo asigna\u001b[39;00m\n\u001b[0;32m----> 2\u001b[0m \u001b[43mparty\u001b[49m\u001b[38;5;241;43m.\u001b[39;49m\u001b[43mseat_confirmation\u001b[49m\u001b[43m(\u001b[49m\u001b[43m)\u001b[49m\n",
      "File \u001b[0;32m~/catkin_extras/src/utils/src/utils/receptionist_knowledge.py:165\u001b[0m, in \u001b[0;36mRECEPTIONIST.seat_confirmation\u001b[0;34m(self, guest_found)\u001b[0m\n\u001b[1;32m    162\u001b[0m \u001b[38;5;28;01mdef\u001b[39;00m \u001b[38;5;21mseat_confirmation\u001b[39m(\u001b[38;5;28mself\u001b[39m, guest_found \u001b[38;5;241m=\u001b[39m \u001b[38;5;124m'\u001b[39m\u001b[38;5;124mNone\u001b[39m\u001b[38;5;124m'\u001b[39m):\n\u001b[1;32m    163\u001b[0m     \u001b[38;5;66;03m#This means that there is no one on this seat and it is free to seat active guest here\u001b[39;00m\n\u001b[1;32m    164\u001b[0m     \u001b[38;5;28;01mif\u001b[39;00m guest_found \u001b[38;5;241m==\u001b[39m \u001b[38;5;124m'\u001b[39m\u001b[38;5;124mNone\u001b[39m\u001b[38;5;124m'\u001b[39m:\n\u001b[0;32m--> 165\u001b[0m         \u001b[38;5;28;43mself\u001b[39;49m\u001b[38;5;241;43m.\u001b[39;49m\u001b[43massign_seat_to_guest\u001b[49m\u001b[43m(\u001b[49m\u001b[38;5;28;43mself\u001b[39;49m\u001b[38;5;241;43m.\u001b[39;49m\u001b[43mactive_guest\u001b[49m\u001b[43m,\u001b[49m\u001b[43m \u001b[49m\u001b[38;5;28;43mself\u001b[39;49m\u001b[38;5;241;43m.\u001b[39;49m\u001b[43mactive_seat\u001b[49m\u001b[43m)\u001b[49m\n\u001b[1;32m    166\u001b[0m     \u001b[38;5;66;03m#This means that there is someone on this seat and a new assign is needed\u001b[39;00m\n\u001b[1;32m    167\u001b[0m     \u001b[38;5;28;01melse\u001b[39;00m:\n\u001b[1;32m    168\u001b[0m         \u001b[38;5;66;03m#Verify if the guest found is part of our party\u001b[39;00m\n\u001b[1;32m    169\u001b[0m             \u001b[38;5;66;03m#If the guest is part of our party update their seat\u001b[39;00m\n\u001b[1;32m    170\u001b[0m             \u001b[38;5;66;03m#if not, add them to out party and assign them this seat\u001b[39;00m\n\u001b[1;32m    171\u001b[0m             \u001b[38;5;66;03m#finally get again an available seat to active guest\u001b[39;00m\n\u001b[1;32m    172\u001b[0m         guest_num \u001b[38;5;241m=\u001b[39m \u001b[38;5;28mself\u001b[39m\u001b[38;5;241m.\u001b[39mget_guest_by_name(guest_found)\n",
      "File \u001b[0;32m~/catkin_extras/src/utils/src/utils/receptionist_knowledge.py:184\u001b[0m, in \u001b[0;36mRECEPTIONIST.assign_seat_to_guest\u001b[0;34m(self, guest, seat)\u001b[0m\n\u001b[1;32m    182\u001b[0m \u001b[38;5;28;01mdef\u001b[39;00m \u001b[38;5;21massign_seat_to_guest\u001b[39m(\u001b[38;5;28mself\u001b[39m, guest, seat):\n\u001b[1;32m    183\u001b[0m     \u001b[38;5;66;03m#Update data\u001b[39;00m\n\u001b[0;32m--> 184\u001b[0m     \u001b[38;5;28;43mself\u001b[39;49m\u001b[38;5;241;43m.\u001b[39;49m\u001b[43minformacion_fiesta\u001b[49m\u001b[43m[\u001b[49m\u001b[38;5;124;43m'\u001b[39;49m\u001b[38;5;124;43mPlaces\u001b[39;49m\u001b[38;5;124;43m'\u001b[39;49m\u001b[43m]\u001b[49m\u001b[43m[\u001b[49m\u001b[43mseat\u001b[49m\u001b[43m]\u001b[49m[\u001b[38;5;124m'\u001b[39m\u001b[38;5;124moccupied\u001b[39m\u001b[38;5;124m'\u001b[39m] \u001b[38;5;241m=\u001b[39m guest\n\u001b[1;32m    185\u001b[0m     \u001b[38;5;28mself\u001b[39m\u001b[38;5;241m.\u001b[39minformacion_fiesta[\u001b[38;5;124m'\u001b[39m\u001b[38;5;124mPeople\u001b[39m\u001b[38;5;124m'\u001b[39m][guest][\u001b[38;5;124m'\u001b[39m\u001b[38;5;124mlocation\u001b[39m\u001b[38;5;124m'\u001b[39m] \u001b[38;5;241m=\u001b[39m seat\n\u001b[1;32m    186\u001b[0m     \u001b[38;5;28mself\u001b[39m\u001b[38;5;241m.\u001b[39msave_data_to_yaml(\u001b[38;5;28mself\u001b[39m\u001b[38;5;241m.\u001b[39minformacion_fiesta)\n",
      "\u001b[0;31mKeyError\u001b[0m: 'None'"
     ]
    }
   ],
   "source": [
    "#El robot revisa el asiento y observa que no hay nadie en este lugar y lo asigna\n",
    "party.seat_confirmation()\n"
   ]
  },
  {
   "cell_type": "code",
   "execution_count": 8,
   "id": "3b1107e1",
   "metadata": {},
   "outputs": [
    {
     "data": {
      "text/plain": [
       "{'People': {'Guest_0': {'drink': 'Coke',\n",
       "   'location': 'Place_1',\n",
       "   'name': 'charlie'},\n",
       "  'Guest_1': {'description': 'charlie has arrived... he is a Man... I believe he is  around 31 years old... I would say he is a bit neutral. I might guess he is of latino hispanic descent.',\n",
       "   'drink': 'tea',\n",
       "   'location': 'Place_3',\n",
       "   'name': 'charlie'},\n",
       "  'Guest_2': {'description': 'morgan has arrived... he is a Man... I believe he is  around 27 years old... I would say he is a bit sad. I might guess he is of latino hispanic descent.',\n",
       "   'drink': 'wine',\n",
       "   'location': 'Place_2',\n",
       "   'name': 'morgan'},\n",
       "  'Guest_3': {'drink': 'Tea',\n",
       "   'location': 'None',\n",
       "   'name': 'Mitzi',\n",
       "   'description': 'None'},\n",
       "  'Guest_4': {'drink': 'None',\n",
       "   'location': 'None',\n",
       "   'name': 'Oscar',\n",
       "   'description': 'None'}},\n",
       " 'Places': {'Place_0': {'location': {'theta': 0.0, 'x': 0.0, 'y': 0.0},\n",
       "   'occupied': 'Not_available'},\n",
       "  'Place_1': {'location': {'theta': 1.51, 'x': 10.53, 'y': -2.09},\n",
       "   'occupied': 'charlie'},\n",
       "  'Place_2': {'location': {'theta': -1.54, 'x': 10.37, 'y': -2.97},\n",
       "   'occupied': 'Guest_2'},\n",
       "  'Place_3': {'location': {'theta': -3.1, 'x': 9.35, 'y': -2.23},\n",
       "   'occupied': 'Guest_1'}}}"
      ]
     },
     "execution_count": 8,
     "metadata": {},
     "output_type": "execute_result"
    }
   ],
   "source": [
    "party.informacion_fiesta\n"
   ]
  },
  {
   "cell_type": "code",
   "execution_count": 23,
   "id": "0b96085f",
   "metadata": {},
   "outputs": [
    {
     "name": "stdout",
     "output_type": "stream",
     "text": [
      "['Place_1', 'Place_2', 'Place_3']\n"
     ]
    }
   ],
   "source": [
    "info = party.informacion_fiesta\n",
    "places = list(info['Places'].keys())\n",
    "places.pop(0)\n",
    "print(places)\n",
    "\n"
   ]
  },
  {
   "cell_type": "code",
   "execution_count": 27,
   "id": "86f682fb",
   "metadata": {},
   "outputs": [
    {
     "name": "stdout",
     "output_type": "stream",
     "text": [
      "{'location': {'theta': 0.0, 'x': 0.0, 'y': 0.0}, 'occupied': 'occupied'}\n"
     ]
    }
   ],
   "source": [
    "locations = list(info['Places'].values())\n",
    "print(locations[0]['location'])\n"
   ]
  },
  {
   "cell_type": "code",
   "execution_count": 19,
   "id": "c7a4cb94",
   "metadata": {},
   "outputs": [
    {
     "name": "stdout",
     "output_type": "stream",
     "text": [
      "seats:  {'Place_1': 'charlie', 'Place_2': 'Guest_2', 'Place_3': 'Guest_1'}\n",
      "dict_items([('Place_1', 'charlie'), ('Place_2', 'Guest_2'), ('Place_3', 'Guest_1')])\n",
      "Place_2\n"
     ]
    },
    {
     "ename": "SyntaxError",
     "evalue": "'return' outside function (2460520918.py, line 12)",
     "output_type": "error",
     "traceback": [
      "\u001b[0;36m  Input \u001b[0;32mIn [19]\u001b[0;36m\u001b[0m\n\u001b[0;31m    return 'failed'\u001b[0m\n\u001b[0m    ^\u001b[0m\n\u001b[0;31mSyntaxError\u001b[0m\u001b[0;31m:\u001b[0m 'return' outside function\n"
     ]
    }
   ],
   "source": [
    "            seats = party.get_guests_seat_assignments()\n",
    "            print(\"seats: \", seats)\n",
    "\n",
    "            #for place, guest in seats.items():\n",
    "            print(seats.items())\n",
    "            seat = random.choice(list(seats.keys()))\n",
    "            print(seat)\n",
    "            if guest != party.get_active_guest():\n",
    "                host_loc = place\n",
    "                dont_compare = True\n",
    "            else:\n",
    "                return 'failed'"
   ]
  },
  {
   "cell_type": "code",
   "execution_count": 43,
   "id": "4d77acfd",
   "metadata": {},
   "outputs": [
    {
     "name": "stdout",
     "output_type": "stream",
     "text": [
      "['Place_0', 'Place_1', 'Place_2', 'Place_3']\n",
      "['Place_1', 'Place_2']\n"
     ]
    }
   ],
   "source": [
    "\n",
    "\n",
    "places = party.get_places()\n",
    "isActive , seat = party.get_active_seat()\n",
    "print(places)\n",
    "places.remove('Place_0')\n",
    "places.remove(seat)\n",
    "print(places)"
   ]
  },
  {
   "cell_type": "code",
   "execution_count": 45,
   "id": "55d35dae",
   "metadata": {},
   "outputs": [
    {
     "name": "stdout",
     "output_type": "stream",
     "text": [
      "1\n"
     ]
    }
   ],
   "source": [
    "# tries =2 \n",
    "tries = 3\n",
    "places[tries-2]\n",
    "if tries - 1 >=len(places):\n",
    "    tries = 1\n",
    "print(tries)"
   ]
  },
  {
   "cell_type": "code",
   "execution_count": null,
   "id": "e1ce4b84",
   "metadata": {},
   "outputs": [],
   "source": []
  }
 ],
 "metadata": {
  "kernelspec": {
   "display_name": "Python 3 (ipykernel)",
   "language": "python",
   "name": "python3"
  },
  "language_info": {
   "codemirror_mode": {
    "name": "ipython",
    "version": 3
   },
   "file_extension": ".py",
   "mimetype": "text/x-python",
   "name": "python",
   "nbconvert_exporter": "python",
   "pygments_lexer": "ipython3",
   "version": "3.8.10"
  }
 },
 "nbformat": 4,
 "nbformat_minor": 5
}
